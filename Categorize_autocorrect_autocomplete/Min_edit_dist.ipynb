{
 "cells": [
  {
   "cell_type": "markdown",
   "metadata": {},
   "source": [
    "### Minimum Edit Distance"
   ]
  },
  {
   "cell_type": "code",
   "execution_count": 1,
   "metadata": {},
   "outputs": [],
   "source": [
    "from nltk import edit_distance"
   ]
  },
  {
   "cell_type": "code",
   "execution_count": 2,
   "metadata": {},
   "outputs": [],
   "source": [
    "# Define the two words that need to be compared\n",
    "s1 = \"estrella\"\n",
    "s2= \"destreza\""
   ]
  },
  {
   "cell_type": "code",
   "execution_count": 3,
   "metadata": {},
   "outputs": [
    {
     "name": "stdout",
     "output_type": "stream",
     "text": [
      "The distance is:4\n"
     ]
    }
   ],
   "source": [
    "# We applied the method edit_distance to know the MED\n",
    "dist = edit_distance(s1,s2,substitution_cost=2)\n",
    "print(\"The distance is:\"+str(dist))"
   ]
  },
  {
   "cell_type": "code",
   "execution_count": 5,
   "metadata": {},
   "outputs": [
    {
     "name": "stdout",
     "output_type": "stream",
     "text": [
      "ardilla is incorrect!\n",
      "{'arcilla': 2, 'piedra': 9, 'ladrillo': 5, 'yeso': 11, 'pladur': 9, 'madera': 7, 'asfalto': 10}\n",
      "The closest word is: arcilla\n",
      "\n",
      "mdera is incorrect!\n",
      "{'arcilla': 8, 'piedra': 5, 'ladrillo': 9, 'yeso': 7, 'pladur': 7, 'madera': 1, 'asfalto': 10}\n",
      "The closest word is: madera\n",
      "\n",
      "asfalto is a correct spelled word\n",
      "\n",
      "pajaro is incorrect!\n",
      "{'arcilla': 9, 'piedra': 8, 'ladrillo': 8, 'yeso': 8, 'pladur': 6, 'madera': 8, 'asfalto': 7}\n",
      "The closest word is: pladur\n",
      "\n"
     ]
    }
   ],
   "source": [
    "# Define a vocabulary with all correct words\n",
    "correct_words = [\"arcilla\", \"piedra\", \"ladrillo\", \"yeso\", \"pladur\",\n",
    "                \"madera\", \"asfalto\"]\n",
    "# Use the following four words to test the autocorrect\n",
    "test_words = [\"ardilla\",\"mdera\",\"asfalto\",\"pajaro\"]\n",
    "\n",
    "# for each test word in the list\n",
    "for test_word in test_words:\n",
    "    # if we  found the word in the vocabulary of correct words\n",
    "    if test_word in correct_words:\n",
    "        print(test_word+\" is a correct spelled word\\n\")\n",
    "    # if we don't found the word\n",
    "    else:\n",
    "        print(test_word+ \" is incorrect!\")\n",
    "\n",
    "        # initialize a dictionary to add the distances for each word\n",
    "\n",
    "        distances = dict.fromkeys(correct_words,0)\n",
    "\n",
    "        # for each word in our vocabulary\n",
    "        for word in correct_words:\n",
    "            # Calculate the distances wrote badly\n",
    "            distances[word] = edit_distance(test_word, word, substitution_cost=2)\n",
    "        \n",
    "        # show the dictionary with their less distance\n",
    "        print(distances)\n",
    "        print(\"The closest word is: \"+ min(distances, key=distances.get) + \"\\n\")\n"
   ]
  },
  {
   "cell_type": "code",
   "execution_count": null,
   "metadata": {},
   "outputs": [],
   "source": []
  }
 ],
 "metadata": {
  "kernelspec": {
   "display_name": "env",
   "language": "python",
   "name": "python3"
  },
  "language_info": {
   "codemirror_mode": {
    "name": "ipython",
    "version": 3
   },
   "file_extension": ".py",
   "mimetype": "text/x-python",
   "name": "python",
   "nbconvert_exporter": "python",
   "pygments_lexer": "ipython3",
   "version": "3.11.9"
  }
 },
 "nbformat": 4,
 "nbformat_minor": 2
}
