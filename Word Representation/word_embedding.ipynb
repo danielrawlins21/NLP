{
 "cells": [
  {
   "cell_type": "markdown",
   "metadata": {},
   "source": [
    "### Extract words"
   ]
  },
  {
   "cell_type": "code",
   "execution_count": 1,
   "metadata": {},
   "outputs": [],
   "source": [
    "def extract_words(tokens, C):\n",
    "    # the first position word that we'll extract\n",
    "    i = C\n",
    "\n",
    "    # We can't process more words than max length - C\n",
    "    max_length = len(tokens) - i\n",
    "\n",
    "    # while we don't exceed the length limit\n",
    "    while i < max_length:\n",
    "        # Extract center word on pos i\n",
    "        center_word = tokens[i]\n",
    "\n",
    "        # Extract previous words, from the position to behind C\n",
    "        prev_context_words = tokens[(i-C):i]\n",
    "\n",
    "        # Extract post content words, from the position to in front of C\n",
    "        post_context_words = tokens[(i+1): (i+C+1)]\n",
    "\n",
    "        # We moved the window one position\n",
    "        i+=1\n",
    "\n",
    "        print(center_word)\n",
    "        print(prev_context_words)\n",
    "        print(post_context_words)\n",
    "        "
   ]
  },
  {
   "cell_type": "code",
   "execution_count": 2,
   "metadata": {},
   "outputs": [
    {
     "name": "stdout",
     "output_type": "stream",
     "text": [
      "vias\n",
      "['son', 'las']\n",
      "['mas', 'seguras']\n",
      "mas\n",
      "['las', 'vias']\n",
      "['seguras', 'ya']\n",
      "seguras\n",
      "['vias', 'mas']\n",
      "['ya', 'que']\n",
      "ya\n",
      "['mas', 'seguras']\n",
      "['que', 'entre']\n",
      "que\n",
      "['seguras', 'ya']\n",
      "['entre', 'otras']\n",
      "entre\n",
      "['ya', 'que']\n",
      "['otras', 'razones']\n",
      "otras\n",
      "['que', 'entre']\n",
      "['razones', 'no']\n",
      "razones\n",
      "['entre', 'otras']\n",
      "['no', 'hay']\n",
      "no\n",
      "['otras', 'razones']\n",
      "['hay', 'riesgos']\n",
      "hay\n",
      "['razones', 'no']\n",
      "['riesgos', 'de']\n",
      "riesgos\n",
      "['no', 'hay']\n",
      "['de', 'colision']\n",
      "de\n",
      "['hay', 'riesgos']\n",
      "['colision', 'frontal']\n"
     ]
    }
   ],
   "source": [
    "tokens = [\n",
    "    \"son\",\"las\",\"vias\", \"mas\", \"seguras\", \"ya\", \"que\", \"entre\",\n",
    "    \"otras\",\"razones\", \"no\", \"hay\", \"riesgos\", \"de\", \"colision\",\n",
    "    \"frontal\"\n",
    "]\n",
    "C= 2\n",
    "extract_words(tokens, C)"
   ]
  },
  {
   "cell_type": "code",
   "execution_count": null,
   "metadata": {},
   "outputs": [],
   "source": []
  }
 ],
 "metadata": {
  "kernelspec": {
   "display_name": "env",
   "language": "python",
   "name": "python3"
  },
  "language_info": {
   "codemirror_mode": {
    "name": "ipython",
    "version": 3
   },
   "file_extension": ".py",
   "mimetype": "text/x-python",
   "name": "python",
   "nbconvert_exporter": "python",
   "pygments_lexer": "ipython3",
   "version": "3.11.9"
  }
 },
 "nbformat": 4,
 "nbformat_minor": 2
}
