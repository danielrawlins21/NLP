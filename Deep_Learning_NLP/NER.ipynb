{
 "cells": [
  {
   "cell_type": "code",
   "execution_count": 1,
   "metadata": {},
   "outputs": [],
   "source": [
    "import spacy"
   ]
  },
  {
   "cell_type": "code",
   "execution_count": 4,
   "metadata": {},
   "outputs": [
    {
     "name": "stdout",
     "output_type": "stream",
     "text": [
      "Collecting en-core-web-sm==3.7.1\n",
      "  Downloading https://github.com/explosion/spacy-models/releases/download/en_core_web_sm-3.7.1/en_core_web_sm-3.7.1-py3-none-any.whl (12.8 MB)\n",
      "     ---------------------------------------- 0.0/12.8 MB ? eta -:--:--\n",
      "     ---------------------------------------- 0.0/12.8 MB ? eta -:--:--\n",
      "     ---------------------------------------- 0.0/12.8 MB ? eta -:--:--\n",
      "     --------------------------------------- 0.0/12.8 MB 393.8 kB/s eta 0:00:33\n",
      "     --------------------------------------- 0.1/12.8 MB 726.2 kB/s eta 0:00:18\n",
      "      --------------------------------------- 0.2/12.8 MB 1.1 MB/s eta 0:00:11\n",
      "     - -------------------------------------- 0.4/12.8 MB 1.6 MB/s eta 0:00:08\n",
      "     -- ------------------------------------- 0.7/12.8 MB 2.7 MB/s eta 0:00:05\n",
      "     --- ------------------------------------ 1.2/12.8 MB 3.9 MB/s eta 0:00:03\n",
      "     ----- ---------------------------------- 1.8/12.8 MB 4.9 MB/s eta 0:00:03\n",
      "     ---------- ----------------------------- 3.3/12.8 MB 8.1 MB/s eta 0:00:02\n",
      "     -------------- ------------------------- 4.7/12.8 MB 10.4 MB/s eta 0:00:01\n",
      "     ------------------------ --------------- 7.8/12.8 MB 15.5 MB/s eta 0:00:01\n",
      "     ------------------------------ --------- 9.8/12.8 MB 18.0 MB/s eta 0:00:01\n",
      "     --------------------------------------  12.8/12.8 MB 54.7 MB/s eta 0:00:01\n",
      "     --------------------------------------  12.8/12.8 MB 54.7 MB/s eta 0:00:01\n",
      "     --------------------------------------  12.8/12.8 MB 54.7 MB/s eta 0:00:01\n",
      "     --------------------------------------- 12.8/12.8 MB 29.8 MB/s eta 0:00:00\n",
      "Requirement already satisfied: spacy<3.8.0,>=3.7.2 in c:\\users\\danie\\onedrive - universidad tecnológica de panamá\\repositories\\nlp\\env\\lib\\site-packages (from en-core-web-sm==3.7.1) (3.7.4)\n",
      "Requirement already satisfied: spacy-legacy<3.1.0,>=3.0.11 in c:\\users\\danie\\onedrive - universidad tecnológica de panamá\\repositories\\nlp\\env\\lib\\site-packages (from spacy<3.8.0,>=3.7.2->en-core-web-sm==3.7.1) (3.0.12)\n",
      "Requirement already satisfied: spacy-loggers<2.0.0,>=1.0.0 in c:\\users\\danie\\onedrive - universidad tecnológica de panamá\\repositories\\nlp\\env\\lib\\site-packages (from spacy<3.8.0,>=3.7.2->en-core-web-sm==3.7.1) (1.0.5)\n",
      "Requirement already satisfied: murmurhash<1.1.0,>=0.28.0 in c:\\users\\danie\\onedrive - universidad tecnológica de panamá\\repositories\\nlp\\env\\lib\\site-packages (from spacy<3.8.0,>=3.7.2->en-core-web-sm==3.7.1) (1.0.10)\n",
      "Requirement already satisfied: cymem<2.1.0,>=2.0.2 in c:\\users\\danie\\onedrive - universidad tecnológica de panamá\\repositories\\nlp\\env\\lib\\site-packages (from spacy<3.8.0,>=3.7.2->en-core-web-sm==3.7.1) (2.0.8)\n",
      "Requirement already satisfied: preshed<3.1.0,>=3.0.2 in c:\\users\\danie\\onedrive - universidad tecnológica de panamá\\repositories\\nlp\\env\\lib\\site-packages (from spacy<3.8.0,>=3.7.2->en-core-web-sm==3.7.1) (3.0.9)\n",
      "Requirement already satisfied: thinc<8.3.0,>=8.2.2 in c:\\users\\danie\\onedrive - universidad tecnológica de panamá\\repositories\\nlp\\env\\lib\\site-packages (from spacy<3.8.0,>=3.7.2->en-core-web-sm==3.7.1) (8.2.3)\n",
      "Requirement already satisfied: wasabi<1.2.0,>=0.9.1 in c:\\users\\danie\\onedrive - universidad tecnológica de panamá\\repositories\\nlp\\env\\lib\\site-packages (from spacy<3.8.0,>=3.7.2->en-core-web-sm==3.7.1) (1.1.2)\n",
      "Requirement already satisfied: srsly<3.0.0,>=2.4.3 in c:\\users\\danie\\onedrive - universidad tecnológica de panamá\\repositories\\nlp\\env\\lib\\site-packages (from spacy<3.8.0,>=3.7.2->en-core-web-sm==3.7.1) (2.4.8)\n",
      "Requirement already satisfied: catalogue<2.1.0,>=2.0.6 in c:\\users\\danie\\onedrive - universidad tecnológica de panamá\\repositories\\nlp\\env\\lib\\site-packages (from spacy<3.8.0,>=3.7.2->en-core-web-sm==3.7.1) (2.0.10)\n",
      "Requirement already satisfied: weasel<0.4.0,>=0.1.0 in c:\\users\\danie\\onedrive - universidad tecnológica de panamá\\repositories\\nlp\\env\\lib\\site-packages (from spacy<3.8.0,>=3.7.2->en-core-web-sm==3.7.1) (0.3.4)\n",
      "Requirement already satisfied: typer<0.10.0,>=0.3.0 in c:\\users\\danie\\onedrive - universidad tecnológica de panamá\\repositories\\nlp\\env\\lib\\site-packages (from spacy<3.8.0,>=3.7.2->en-core-web-sm==3.7.1) (0.9.4)\n",
      "Requirement already satisfied: smart-open<7.0.0,>=5.2.1 in c:\\users\\danie\\onedrive - universidad tecnológica de panamá\\repositories\\nlp\\env\\lib\\site-packages (from spacy<3.8.0,>=3.7.2->en-core-web-sm==3.7.1) (6.4.0)\n",
      "Requirement already satisfied: tqdm<5.0.0,>=4.38.0 in c:\\users\\danie\\onedrive - universidad tecnológica de panamá\\repositories\\nlp\\env\\lib\\site-packages (from spacy<3.8.0,>=3.7.2->en-core-web-sm==3.7.1) (4.66.2)\n",
      "Requirement already satisfied: requests<3.0.0,>=2.13.0 in c:\\users\\danie\\onedrive - universidad tecnológica de panamá\\repositories\\nlp\\env\\lib\\site-packages (from spacy<3.8.0,>=3.7.2->en-core-web-sm==3.7.1) (2.31.0)\n",
      "Requirement already satisfied: pydantic!=1.8,!=1.8.1,<3.0.0,>=1.7.4 in c:\\users\\danie\\onedrive - universidad tecnológica de panamá\\repositories\\nlp\\env\\lib\\site-packages (from spacy<3.8.0,>=3.7.2->en-core-web-sm==3.7.1) (2.7.1)\n",
      "Requirement already satisfied: jinja2 in c:\\users\\danie\\onedrive - universidad tecnológica de panamá\\repositories\\nlp\\env\\lib\\site-packages (from spacy<3.8.0,>=3.7.2->en-core-web-sm==3.7.1) (3.1.3)\n",
      "Requirement already satisfied: setuptools in c:\\users\\danie\\onedrive - universidad tecnológica de panamá\\repositories\\nlp\\env\\lib\\site-packages (from spacy<3.8.0,>=3.7.2->en-core-web-sm==3.7.1) (65.5.0)\n",
      "Requirement already satisfied: packaging>=20.0 in c:\\users\\danie\\onedrive - universidad tecnológica de panamá\\repositories\\nlp\\env\\lib\\site-packages (from spacy<3.8.0,>=3.7.2->en-core-web-sm==3.7.1) (24.0)\n",
      "Requirement already satisfied: langcodes<4.0.0,>=3.2.0 in c:\\users\\danie\\onedrive - universidad tecnológica de panamá\\repositories\\nlp\\env\\lib\\site-packages (from spacy<3.8.0,>=3.7.2->en-core-web-sm==3.7.1) (3.4.0)\n",
      "Requirement already satisfied: numpy>=1.19.0 in c:\\users\\danie\\onedrive - universidad tecnológica de panamá\\repositories\\nlp\\env\\lib\\site-packages (from spacy<3.8.0,>=3.7.2->en-core-web-sm==3.7.1) (1.26.4)\n",
      "Requirement already satisfied: language-data>=1.2 in c:\\users\\danie\\onedrive - universidad tecnológica de panamá\\repositories\\nlp\\env\\lib\\site-packages (from langcodes<4.0.0,>=3.2.0->spacy<3.8.0,>=3.7.2->en-core-web-sm==3.7.1) (1.2.0)\n",
      "Requirement already satisfied: annotated-types>=0.4.0 in c:\\users\\danie\\onedrive - universidad tecnológica de panamá\\repositories\\nlp\\env\\lib\\site-packages (from pydantic!=1.8,!=1.8.1,<3.0.0,>=1.7.4->spacy<3.8.0,>=3.7.2->en-core-web-sm==3.7.1) (0.6.0)\n",
      "Requirement already satisfied: pydantic-core==2.18.2 in c:\\users\\danie\\onedrive - universidad tecnológica de panamá\\repositories\\nlp\\env\\lib\\site-packages (from pydantic!=1.8,!=1.8.1,<3.0.0,>=1.7.4->spacy<3.8.0,>=3.7.2->en-core-web-sm==3.7.1) (2.18.2)\n",
      "Requirement already satisfied: typing-extensions>=4.6.1 in c:\\users\\danie\\onedrive - universidad tecnológica de panamá\\repositories\\nlp\\env\\lib\\site-packages (from pydantic!=1.8,!=1.8.1,<3.0.0,>=1.7.4->spacy<3.8.0,>=3.7.2->en-core-web-sm==3.7.1) (4.11.0)\n",
      "Requirement already satisfied: charset-normalizer<4,>=2 in c:\\users\\danie\\onedrive - universidad tecnológica de panamá\\repositories\\nlp\\env\\lib\\site-packages (from requests<3.0.0,>=2.13.0->spacy<3.8.0,>=3.7.2->en-core-web-sm==3.7.1) (3.3.2)\n",
      "Requirement already satisfied: idna<4,>=2.5 in c:\\users\\danie\\onedrive - universidad tecnológica de panamá\\repositories\\nlp\\env\\lib\\site-packages (from requests<3.0.0,>=2.13.0->spacy<3.8.0,>=3.7.2->en-core-web-sm==3.7.1) (3.6)\n",
      "Requirement already satisfied: urllib3<3,>=1.21.1 in c:\\users\\danie\\onedrive - universidad tecnológica de panamá\\repositories\\nlp\\env\\lib\\site-packages (from requests<3.0.0,>=2.13.0->spacy<3.8.0,>=3.7.2->en-core-web-sm==3.7.1) (2.2.1)\n",
      "Requirement already satisfied: certifi>=2017.4.17 in c:\\users\\danie\\onedrive - universidad tecnológica de panamá\\repositories\\nlp\\env\\lib\\site-packages (from requests<3.0.0,>=2.13.0->spacy<3.8.0,>=3.7.2->en-core-web-sm==3.7.1) (2024.2.2)\n",
      "Requirement already satisfied: blis<0.8.0,>=0.7.8 in c:\\users\\danie\\onedrive - universidad tecnológica de panamá\\repositories\\nlp\\env\\lib\\site-packages (from thinc<8.3.0,>=8.2.2->spacy<3.8.0,>=3.7.2->en-core-web-sm==3.7.1) (0.7.11)\n",
      "Requirement already satisfied: confection<1.0.0,>=0.0.1 in c:\\users\\danie\\onedrive - universidad tecnológica de panamá\\repositories\\nlp\\env\\lib\\site-packages (from thinc<8.3.0,>=8.2.2->spacy<3.8.0,>=3.7.2->en-core-web-sm==3.7.1) (0.1.4)\n",
      "Requirement already satisfied: colorama in c:\\users\\danie\\onedrive - universidad tecnológica de panamá\\repositories\\nlp\\env\\lib\\site-packages (from tqdm<5.0.0,>=4.38.0->spacy<3.8.0,>=3.7.2->en-core-web-sm==3.7.1) (0.4.6)\n",
      "Requirement already satisfied: click<9.0.0,>=7.1.1 in c:\\users\\danie\\onedrive - universidad tecnológica de panamá\\repositories\\nlp\\env\\lib\\site-packages (from typer<0.10.0,>=0.3.0->spacy<3.8.0,>=3.7.2->en-core-web-sm==3.7.1) (8.1.7)\n",
      "Requirement already satisfied: cloudpathlib<0.17.0,>=0.7.0 in c:\\users\\danie\\onedrive - universidad tecnológica de panamá\\repositories\\nlp\\env\\lib\\site-packages (from weasel<0.4.0,>=0.1.0->spacy<3.8.0,>=3.7.2->en-core-web-sm==3.7.1) (0.16.0)\n",
      "Requirement already satisfied: MarkupSafe>=2.0 in c:\\users\\danie\\onedrive - universidad tecnológica de panamá\\repositories\\nlp\\env\\lib\\site-packages (from jinja2->spacy<3.8.0,>=3.7.2->en-core-web-sm==3.7.1) (2.1.5)\n",
      "Requirement already satisfied: marisa-trie>=0.7.7 in c:\\users\\danie\\onedrive - universidad tecnológica de panamá\\repositories\\nlp\\env\\lib\\site-packages (from language-data>=1.2->langcodes<4.0.0,>=3.2.0->spacy<3.8.0,>=3.7.2->en-core-web-sm==3.7.1) (1.1.0)\n",
      "Installing collected packages: en-core-web-sm\n",
      "Successfully installed en-core-web-sm-3.7.1\n",
      "\u001b[38;5;2m✔ Download and installation successful\u001b[0m\n",
      "You can now load the package via spacy.load('en_core_web_sm')\n"
     ]
    }
   ],
   "source": [
    "!python -m spacy download en_core_web_sm"
   ]
  },
  {
   "cell_type": "code",
   "execution_count": 6,
   "metadata": {},
   "outputs": [
    {
     "name": "stdout",
     "output_type": "stream",
     "text": [
      "The 90 \n",
      "series 92 \n",
      "continues 100 \n",
      "its 95 \n",
      "run 92 \n",
      "of 85 \n",
      "high 84 \n",
      "- 97 \n",
      "quality 92 \n",
      "animation 92 \n",
      "with 85 \n",
      "a 90 \n",
      "plethora 92 \n",
      "of 85 \n",
      "action 92 \n",
      "sequences 92 \n",
      "that 95 \n",
      "continually 86 \n",
      "delight 100 \n",
      "the 90 \n",
      "eye 92 \n",
      ". 97 \n",
      "... 97 \n",
      "Moves 92 \n",
      "briskly 86 \n",
      "... 97 \n",
      "the 90 \n",
      "action 92 \n",
      "rarely 86 \n",
      "flags 100 \n",
      ". 97 \n",
      "... 97 \n",
      "And 89 \n",
      "the 90 \n",
      "Australian 84 NORP\n",
      "accents 92 \n",
      "put 100 \n",
      "another 90 \n",
      "global 84 \n",
      "touch 92 \n",
      "on 85 \n",
      "everything 95 \n",
      "! 97 \n"
     ]
    }
   ],
   "source": [
    "nlp = spacy.load(\"en_core_web_sm\")\n",
    "\n",
    "doc = nlp(\"The series continues its run of high-quality animation with a plethora of action sequences that continually delight the eye. ... Moves briskly ... the action rarely flags. ... And the Australian accents put another global touch on everything!\")\n",
    "for token in doc:\n",
    "    print(token.text, token.pos, token.ent_type_)"
   ]
  },
  {
   "cell_type": "code",
   "execution_count": null,
   "metadata": {},
   "outputs": [],
   "source": []
  }
 ],
 "metadata": {
  "kernelspec": {
   "display_name": "env",
   "language": "python",
   "name": "python3"
  },
  "language_info": {
   "codemirror_mode": {
    "name": "ipython",
    "version": 3
   },
   "file_extension": ".py",
   "mimetype": "text/x-python",
   "name": "python",
   "nbconvert_exporter": "python",
   "pygments_lexer": "ipython3",
   "version": "3.11.9"
  }
 },
 "nbformat": 4,
 "nbformat_minor": 2
}
