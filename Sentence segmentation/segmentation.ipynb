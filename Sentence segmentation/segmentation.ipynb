{
 "cells": [
  {
   "cell_type": "code",
   "execution_count": 1,
   "metadata": {},
   "outputs": [
    {
     "name": "stderr",
     "output_type": "stream",
     "text": [
      "[nltk_data] Downloading package punkt to\n",
      "[nltk_data]     C:\\Users\\danie\\AppData\\Roaming\\nltk_data...\n",
      "[nltk_data]   Unzipping tokenizers\\punkt.zip.\n"
     ]
    },
    {
     "name": "stdout",
     "output_type": "stream",
     "text": [
      "Jamás pensé que esto podría pasar. \n",
      "\n",
      "¿Quién soy yo para entrar en la junta directiva? \n",
      "\n",
      "¡Hay muchísimos candidatos mejores que yo! \n",
      "\n",
      "Le comenté a Carlos la sensación de vacío que me generaba esta situación y su respuesta fue: \" No lo dudes, te lo mereces\" \n",
      "\n"
     ]
    }
   ],
   "source": [
    "import nltk\n",
    "# Download the segmentation model\n",
    "nltk.download('punkt')\n",
    "\n",
    "# One time downloaded, import it\n",
    "from nltk.tokenize import sent_tokenize\n",
    "\n",
    "# Define a test text\n",
    "#text = \" Jamás pensé que esto podría pasar. ¿Quién soy yo para entrar en la junta directiva? ¡Hay Muchísimos candidatos mejores que yo! Le comenté a Carlos la sensación de vacio que me generaba esta situación y su respuesta fue: No lo dudes, te lo mereces\"\n",
    "text = \"Jamás pensé que esto podría pasar. ¿Quién soy yo para entrar en la \\\n",
    "junta directiva? ¡Hay muchísimos candidatos mejores que yo! Le comenté a Carlos \\\n",
    "la sensación de vacío que me generaba esta situación y su respuesta fue: \\\n",
    "\\\" No lo dudes, te lo mereces\\\"\"\n",
    "\n",
    "\n",
    "\n",
    "# for each sentence founded, we write it on screen\n",
    "for sentence in sent_tokenize(text):\n",
    "    print(sentence + \" \\n\")"
   ]
  },
  {
   "cell_type": "code",
   "execution_count": null,
   "metadata": {},
   "outputs": [],
   "source": []
  }
 ],
 "metadata": {
  "kernelspec": {
   "display_name": "env",
   "language": "python",
   "name": "python3"
  },
  "language_info": {
   "codemirror_mode": {
    "name": "ipython",
    "version": 3
   },
   "file_extension": ".py",
   "mimetype": "text/x-python",
   "name": "python",
   "nbconvert_exporter": "python",
   "pygments_lexer": "ipython3",
   "version": "3.11.9"
  }
 },
 "nbformat": 4,
 "nbformat_minor": 2
}
