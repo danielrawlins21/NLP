{
 "cells": [
  {
   "cell_type": "code",
   "execution_count": 2,
   "metadata": {},
   "outputs": [
    {
     "name": "stdout",
     "output_type": "stream",
     "text": [
      "Happy birthday, Daniel\n"
     ]
    }
   ],
   "source": [
    "import datetime\n",
    "\n",
    "def daniel_s_birthday():\n",
    "    today = datetime.date.today()\n",
    "    birth = datetime.date(today.year, 4, 21)\n",
    "    if today == birth:\n",
    "        print(\"Happy birthday, Daniel\")\n",
    "    elif today > birth:\n",
    "        birth = datetime.date(today.year +1, 4, 21)\n",
    "        next_birth = (birth - today).days\n",
    "        print(\"Did you write on LinkedIn Today?\")\n",
    "daniel_s_birthday()"
   ]
  },
  {
   "cell_type": "code",
   "execution_count": null,
   "metadata": {},
   "outputs": [],
   "source": []
  }
 ],
 "metadata": {
  "kernelspec": {
   "display_name": "env",
   "language": "python",
   "name": "python3"
  },
  "language_info": {
   "codemirror_mode": {
    "name": "ipython",
    "version": 3
   },
   "file_extension": ".py",
   "mimetype": "text/x-python",
   "name": "python",
   "nbconvert_exporter": "python",
   "pygments_lexer": "ipython3",
   "version": "3.11.9"
  }
 },
 "nbformat": 4,
 "nbformat_minor": 2
}
