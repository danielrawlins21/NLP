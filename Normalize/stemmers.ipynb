{
 "cells": [
  {
   "cell_type": "markdown",
   "metadata": {},
   "source": [
    "## Porter Stemmer"
   ]
  },
  {
   "cell_type": "code",
   "execution_count": 1,
   "metadata": {},
   "outputs": [
    {
     "name": "stdout",
     "output_type": "stream",
     "text": [
      "program  :  program\n",
      "programs  :  program\n",
      "programmer  :  programm\n",
      "programming  :  program\n",
      "programmers  :  programm\n"
     ]
    }
   ],
   "source": [
    "from nltk.stem import PorterStemmer\n",
    "\n",
    "# Initialize an object type porter\n",
    "stemmer = PorterStemmer()\n",
    "\n",
    "# We create a list of words that we use with the algorithm\n",
    "words_to_stem = [\"program\", \"programs\",\"programmer\", \"programming\", \"programmers\"]\n",
    "\n",
    "# We run the stem over each word from list\n",
    "for word in words_to_stem:\n",
    "    print(word, \" : \", stemmer.stem(word))"
   ]
  },
  {
   "cell_type": "markdown",
   "metadata": {},
   "source": [
    "## Snowball Stemmer"
   ]
  },
  {
   "cell_type": "code",
   "execution_count": 2,
   "metadata": {},
   "outputs": [
    {
     "name": "stdout",
     "output_type": "stream",
     "text": [
      "programa  :  program\n",
      "programas  :  program\n",
      "programador  :  program\n",
      "programar  :  program\n",
      "programación  :  program\n",
      "programadores  :  program\n"
     ]
    }
   ],
   "source": [
    "from nltk.stem.snowball import SnowballStemmer\n",
    "\n",
    "# We Initialize an object type snowball\n",
    "spanish_stemmer = SnowballStemmer(\"spanish\")\n",
    "\n",
    "# We define a list of words to run\n",
    "words_spanish = [\"programa\", \"programas\", \"programador\", \"programar\", \"programación\", \"programadores\"]\n",
    "\n",
    "# we run the snowball for each word\n",
    "for spanish_word in words_spanish:\n",
    "    print(spanish_word, \" : \", spanish_stemmer.stem(spanish_word))"
   ]
  },
  {
   "cell_type": "markdown",
   "metadata": {},
   "source": [
    "## Lemmantize"
   ]
  },
  {
   "cell_type": "code",
   "execution_count": 3,
   "metadata": {},
   "outputs": [
    {
     "name": "stderr",
     "output_type": "stream",
     "text": [
      "[nltk_data] Downloading package wordnet to\n",
      "[nltk_data]     C:\\Users\\danie\\AppData\\Roaming\\nltk_data...\n"
     ]
    },
    {
     "name": "stdout",
     "output_type": "stream",
     "text": [
      "rocks : rock\n",
      "were : be\n",
      "better : good\n"
     ]
    }
   ],
   "source": [
    "import nltk\n",
    "# Download the package wordnet\n",
    "nltk.download('wordnet')\n",
    "\n",
    "# Import the lemmantizer\n",
    "from nltk.stem import WordNetLemmatizer\n",
    "\n",
    "# We initialize an Wordnet object\n",
    "lemmantizer = WordNetLemmatizer()\n",
    "\n",
    "# We indicate to the lemmantizer that it'll be working with \"n\" name\n",
    "print(\"rocks :\", lemmantizer.lemmatize(\"rocks\", pos=\"n\"))\n",
    "\n",
    "# We indicate to the lemmantizer that it'll be working with \"v\" name\n",
    "print(\"were :\", lemmantizer.lemmatize(\"were\", pos=\"v\"))\n",
    "\n",
    "# We indicate to the lemmantizer that it'll be working with \"a\" name\n",
    "print(\"better :\", lemmantizer.lemmatize(\"better\", pos=\"a\"))\n",
    "\n"
   ]
  },
  {
   "cell_type": "code",
   "execution_count": null,
   "metadata": {},
   "outputs": [],
   "source": []
  }
 ],
 "metadata": {
  "kernelspec": {
   "display_name": "env",
   "language": "python",
   "name": "python3"
  },
  "language_info": {
   "codemirror_mode": {
    "name": "ipython",
    "version": 3
   },
   "file_extension": ".py",
   "mimetype": "text/x-python",
   "name": "python",
   "nbconvert_exporter": "python",
   "pygments_lexer": "ipython3",
   "version": "3.11.9"
  }
 },
 "nbformat": 4,
 "nbformat_minor": 2
}
