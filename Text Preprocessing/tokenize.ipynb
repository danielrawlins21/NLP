{
 "cells": [
  {
   "cell_type": "markdown",
   "metadata": {},
   "source": [
    "## Tokenize Treebank"
   ]
  },
  {
   "cell_type": "code",
   "execution_count": 1,
   "metadata": {},
   "outputs": [
    {
     "name": "stdout",
     "output_type": "stream",
     "text": [
      "['Naci', 'en', '1987', ',', 'en', 'un', 'pequeño', 'pueblo', 'de', 'Islandia', ',', 'a', 'las', '23:59', '.']\n"
     ]
    }
   ],
   "source": [
    "from nltk.tokenize import TreebankWordTokenizer\n",
    "\n",
    "# Save the phrase that we want to analyze\n",
    "phrase = \"Naci en 1987, en un pequeño pueblo de Islandia, a las 23:59.\"\n",
    "\n",
    "# Initialize the Tokenizer object\n",
    "tokenizer = TreebankWordTokenizer()\n",
    "\n",
    "# Run the tokenizer method over the phrase\n",
    "tokenize_phrase = tokenizer.tokenize(phrase)\n",
    "print(tokenize_phrase)"
   ]
  },
  {
   "cell_type": "code",
   "execution_count": 2,
   "metadata": {},
   "outputs": [
    {
     "name": "stdout",
     "output_type": "stream",
     "text": [
      "['¿Qué', 'hora', 'es', '?', '¡Ya', 'se', 'ha', 'hecho', 'de', 'noche', '!']\n"
     ]
    }
   ],
   "source": [
    "# Save the phrase that we want to analyze\n",
    "phrase2 = \"¿Qué hora es? ¡Ya se ha hecho de noche!\"\n",
    "\n",
    "\n",
    "# Run the tokenizer method over the phrase\n",
    "tokenize_phrase2 = tokenizer.tokenize(phrase2)\n",
    "print(tokenize_phrase2)"
   ]
  },
  {
   "cell_type": "markdown",
   "metadata": {},
   "source": [
    "## Tokenize WordPunct"
   ]
  },
  {
   "cell_type": "code",
   "execution_count": 4,
   "metadata": {},
   "outputs": [
    {
     "name": "stdout",
     "output_type": "stream",
     "text": [
      "['¿', 'Qué', 'hora', 'es', '?', '¡', 'Ya', 'se', 'ha', 'hecho', 'de', 'noche', '!', 'Son', 'las', '21', ':', '43']\n"
     ]
    }
   ],
   "source": [
    "from nltk.tokenize import WordPunctTokenizer\n",
    "\n",
    "# Save the phrase that we want to analyze\n",
    "phrase3 = \"¿Qué hora es? ¡Ya se ha hecho de noche! Son las 21:43\"\n",
    "\n",
    "# Initialize the Tokenizer object\n",
    "tokenizer2 = WordPunctTokenizer()\n",
    "\n",
    "# Run the tokenizer method over the phrase\n",
    "tokenize_phrase3 = tokenizer2.tokenize(phrase3)\n",
    "print(tokenize_phrase3)"
   ]
  }
 ],
 "metadata": {
  "kernelspec": {
   "display_name": "env",
   "language": "python",
   "name": "python3"
  },
  "language_info": {
   "codemirror_mode": {
    "name": "ipython",
    "version": 3
   },
   "file_extension": ".py",
   "mimetype": "text/x-python",
   "name": "python",
   "nbconvert_exporter": "python",
   "pygments_lexer": "ipython3",
   "version": "3.11.9"
  }
 },
 "nbformat": 4,
 "nbformat_minor": 2
}
